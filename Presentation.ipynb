{
 "cells": [
  {
   "cell_type": "code",
   "execution_count": 5,
   "metadata": {
    "slideshow": {
     "slide_type": "skip"
    }
   },
   "outputs": [],
   "source": [
    "%matplotlib inline\n",
    "\n",
    "import numpy as np\n",
    "import scipy as sp\n",
    "import matplotlib.pyplot as plt\n",
    "import seaborn as sns\n",
    "import pandas as pd\n",
    "from scipy import stats\n",
    "\n",
    "plt.style.use('ggplot')\n",
    "\n",
    "from helperfunctions import hide_code_in_slideshow\n",
    "\n",
    "np.random.seed(1)\n",
    "\n",
    "# import pymc3 as pm\n",
    "# import arviz as az\n",
    "\n",
    "import warnings\n",
    "warnings.simplefilter('ignore')"
   ]
  },
  {
   "cell_type": "markdown",
   "metadata": {
    "slideshow": {
     "slide_type": "slide"
    }
   },
   "source": [
    "# Gaussian Processes\n",
    "## A Practical Introduction\n",
    "\n",
    "### Henk Kortier, School of AI Enschede, 12-03-2020"
   ]
  },
  {
   "cell_type": "markdown",
   "metadata": {
    "slideshow": {
     "slide_type": "skip"
    }
   },
   "source": [
    "&#9658;"
   ]
  },
  {
   "cell_type": "markdown",
   "metadata": {
    "slideshow": {
     "slide_type": "slide"
    }
   },
   "source": [
    "# Content:\n",
    "1. `whoami`\n",
    "2. Motivation\n",
    "3. Probability Fundamentals\n",
    "    - Uncertainty (pdf)\n",
    "    - Prior and Likelihood\n",
    "    - Bayes' formula\n",
    "    - Marginalisation and Conditioning\n",
    "4. Normal distribution Fundamentals\n",
    "    - Why normal distributions (Gaussian)\n",
    "    - Univariate\n",
    "    - Multivariate\n",
    "    - Marginalisation and Conditioning \n",
    "5. Gaussian Processes\n",
    "    - Covariance function\n",
    "    - Regression example\n",
    "    - Non gaussian likelihood example\n",
    "    - 2D input example "
   ]
  },
  {
   "cell_type": "markdown",
   "metadata": {
    "slideshow": {
     "slide_type": "slide"
    }
   },
   "source": [
    "# `whoami`\n",
    "\n",
    "- Background:\n",
    "    - Electrical Engineering @UT (MSc.)\n",
    "    - Estimation of limb positions using inertial and magnetic sensors @UT (Phd.)\n",
    "- Work experience:\n",
    "    - Lectoraat mechatronica @Saxion, experienced in Sensor Fusion and Inertial Sensing applied in localization and navigation"
   ]
  },
  {
   "cell_type": "markdown",
   "metadata": {
    "slideshow": {
     "slide_type": "slide"
    }
   },
   "source": [
    "# Motivation\n",
    "## Linear regression"
   ]
  },
  {
   "cell_type": "markdown",
   "metadata": {
    "cell_style": "split"
   },
   "source": [
    "Of course, like almost everything in machine learning, we have to start from regression. Let’s revisit the problem: somebody comes to you with some data points (blue points in image right), and we would like to make some prediction of the value of y with a specific x (dashed red line)."
   ]
  },
  {
   "cell_type": "code",
   "execution_count": 6,
   "metadata": {
    "cell_style": "split",
    "slideshow": {
     "slide_type": "fragment"
    }
   },
   "outputs": [
    {
     "data": {
      "text/html": [
       "<div id=\"3177ee3e0600a3a2\"></div>\n",
       "    <script type=\"text/javascript\">\n",
       "        $(function(){\n",
       "            var p = $(\"#3177ee3e0600a3a2\");\n",
       "            if (p.length==0) return;\n",
       "            while (!p.hasClass(\"cell\")) {\n",
       "                p=p.parent();\n",
       "                if (p.prop(\"tagName\") ==\"body\") return;\n",
       "            }\n",
       "            var cell = p;\n",
       "            cell.find(\".input\").addClass(\"hide-in-slideshow\")\n",
       "        });\n",
       "    </script>"
      ]
     },
     "metadata": {},
     "output_type": "display_data"
    },
    {
     "data": {
      "image/png": "[encoded data removed]",
      "text/plain": [
       "<Figure size 864x576 with 1 Axes>"
      ]
     },
     "metadata": {},
     "output_type": "display_data"
    }
   ],
   "source": [
    "hide_code_in_slideshow()\n",
    "N = 5\n",
    "x = np.random.rand(N)\n",
    "y = np.sin(x) + .05*np.random.randn(N)\n",
    "\n",
    "plt.figure(figsize=(12,8))\n",
    "plt.plot(x,y,'bo', markersize=15)\n",
    "plt.vlines(.5,ymin=0,ymax=1,colors='r',linestyle='dashed');"
   ]
  },
  {
   "cell_type": "markdown",
   "metadata": {
    "slideshow": {
     "slide_type": "slide"
    }
   },
   "source": [
    "# Probabilistic modeling\n",
    "\n",
    "\n",
    "## $$ p(y_{*} \\mid y, X, x_{*}) $$\n",
    "\n",
    "> Uncertainty can be represented as a set of possible outcomes and their respective likelihood —called a **probability distribution**"
   ]
  },
  {
   "cell_type": "markdown",
   "metadata": {
    "slideshow": {
     "slide_type": "slide"
    }
   },
   "source": [
    "## Data $D$ and Parameters $\\theta$ \n",
    "\n",
    "### Prior and Likelihood\n",
    "- Prior: $p (\\theta) $\n",
    "- Likelihood: $ p (D | \\theta) $\n",
    "### Marginalization\n",
    "- $p(D) = \\int p(D \\mid \\theta) p(\\theta) d \\theta $\n",
    "### Conditioning\n",
    "- $ p(D \\mid \\theta) $"
   ]
  },
  {
   "cell_type": "markdown",
   "metadata": {
    "slideshow": {
     "slide_type": "skip"
    }
   },
   "source": [
    "-------------------"
   ]
  },
  {
   "cell_type": "markdown",
   "metadata": {
    "slideshow": {
     "slide_type": "slide"
    }
   },
   "source": [
    "# Gaussian Fundamentals"
   ]
  },
  {
   "cell_type": "markdown",
   "metadata": {
    "slideshow": {
     "slide_type": "slide"
    }
   },
   "source": [
    "## Why Gaussians: Law of large numbers / Central Limit Theorem"
   ]
  },
  {
   "cell_type": "code",
   "execution_count": 3,
   "metadata": {},
   "outputs": [
    {
     "data": {
      "image/png": "[encoded data removed]",
      "text/plain": [
       "<Figure size 432x288 with 1 Axes>"
      ]
     },
     "metadata": {},
     "output_type": "display_data"
    }
   ],
   "source": [
    "# Create a discrete distribution (like an unfair dice)\n",
    "xk = np.arange(6)\n",
    "pk = (0.05, 0.2, 0,0 , 0.7, 0.05)\n",
    "custm = stats.rv_discrete(name='custm', values=(xk, pk))\n",
    "\n",
    "fig, ax = plt.subplots(1, 1)\n",
    "ax.plot(xk, custm.pmf(xk), 'ro', ms=12, mec='r')\n",
    "ax.vlines(xk, 0, custm.pmf(xk), colors='r', lw=4)\n",
    "plt.show()"
   ]
  },
  {
   "cell_type": "code",
   "execution_count": 4,
   "metadata": {
    "scrolled": true
   },
   "outputs": [
    {
     "data": {
      "image/png": "[encoded data removed]",
      "text/plain": [
       "<Figure size 432x288 with 1 Axes>"
      ]
     },
     "metadata": {},
     "output_type": "display_data"
    }
   ],
   "source": [
    "sizes = 200*np.ones((10000,1)).astype(int)\n",
    "means = [np.mean(custm.rvs(size=size)) for size in sizes]\n",
    "\n",
    "sns.distplot(np.array(means),);"
   ]
  },
  {
   "cell_type": "markdown",
   "metadata": {
    "slideshow": {
     "slide_type": "slide"
    }
   },
   "source": [
    "## Gaussian Fundamentals\n",
    "### Multivariate distribution\n",
    "\n",
    "![Multivariate_Gaussian](figures/Multivariate_Gaussian.png \"Multivariate Gaussian\")"
   ]
  },
  {
   "cell_type": "code",
   "execution_count": null,
   "metadata": {},
   "outputs": [],
   "source": []
  },
  {
   "cell_type": "markdown",
   "metadata": {
    "slideshow": {
     "slide_type": "notes"
    }
   },
   "source": [
    "Uncertainty\n",
    "\n",
    "> Uncertainty can be represented as a set of possible outcomes and their respective likelihood —called a probability distribution\n",
    "\n",
    "- Scarcity of training data\n",
    "- Mismatch between the chosen prediction functions and the set of possible"
   ]
  },
  {
   "cell_type": "markdown",
   "metadata": {
    "slideshow": {
     "slide_type": "slide"
    }
   },
   "source": [
    "# Bayes law\n",
    "# $$ \\underbrace{Pr(\\theta | y)}_{\\text{Posterior}} = \\dfrac{\\overbrace{Pr(y | \\theta)}^{\\text{Likelihood}} ~~\\overbrace{Pr(\\theta)}^{\\text{Prior}}}{\\underbrace{Pr(y)}_{\\text{Evidence (data)}}}$$ "
   ]
  },
  {
   "cell_type": "markdown",
   "metadata": {
    "slideshow": {
     "slide_type": "slide"
    }
   },
   "source": [
    "# Parametric VS non-parametric"
   ]
  },
  {
   "cell_type": "markdown",
   "metadata": {
    "slideshow": {
     "slide_type": "slide"
    }
   },
   "source": [
    "# GP\n",
    "\n",
    "### A GP defines a prior over functions, which can be converted into a posterior over functions once we have seen some data. Although it might seem difficult to represent a distribution over a function, it turns out that we only need to be able to define a distribution over the function’s values at a finite, but arbitrary, set of points, say $x_1,…,x_N$. A GP assumes that $p(f(x_1),…,f(x_N))$ is jointly Gaussian, with some mean $\\mu(x)$ and covariance $\\Sigma(x)$ given by $\\Sigma_{i,j} = k(x_i,x_j)$, where $k$ is a positive definite kernel function. The key idea is that if $x_i$ and $x_j$ are deemed by the kernel to be similar, then we expect the output of the function at those points to be similar, too."
   ]
  },
  {
   "cell_type": "markdown",
   "metadata": {
    "cell_style": "split",
    "slideshow": {
     "slide_type": "slide"
    }
   },
   "source": [
    "$$f(\\mathbf{x}) \\sim \\mathcal{GP}(m(\\mathbf{x}), k(\\mathbf{x}, \\mathbf{x}')).$$\n",
    "\n",
    "$$\n",
    "\\begin{align}\n",
    "\\begin{bmatrix}\n",
    "\\mathbf{f}\\\\\n",
    "\\mathbf{f}_*\\\\\n",
    "\\end{bmatrix} &\\sim  \\mathcal{N}\n",
    "\\begin{pmatrix}\n",
    "\\mathbf{0},\n",
    "\\begin{bmatrix}\n",
    "K(X, X) & K(X, X_*) \\\\\n",
    "K(X_*, X) & K(X_*, X_*)\n",
    "\\end{bmatrix}\n",
    "\\end{pmatrix}\n",
    "\\end{align}\n",
    "$$ \n",
    "<!-- \n",
    "\n",
    "| Covariance item | Explanation |\n",
    "|--|--|\n",
    "|$K(X, X)$|  |\n",
    "|$K(X, X_*)$|b|\n",
    "|$K(X, X)$|c| -->"
   ]
  },
  {
   "cell_type": "markdown",
   "metadata": {
    "cell_style": "split",
    "slideshow": {
     "slide_type": "-"
    }
   },
   "source": [
    "Here, $K$ is the matrix we get by applying the kernel function to our observed $x$ values, i.e. the similarity of each observed $x$ to each other observed $x$. $K_*$ gets us the similarity of the training values to the test values whose output values we’re trying to estimate. $K_{**}$ gives the similarity of the test values to each other."
   ]
  },
  {
   "cell_type": "markdown",
   "metadata": {
    "slideshow": {
     "slide_type": "slide"
    }
   },
   "source": [
    "# GP\n",
    "\n",
    "## Get the conditional posterior $p(y_* \\mid y)$ from the joint $p(y_*, y)$\n",
    "\n",
    "For the details please refer to X"
   ]
  },
  {
   "cell_type": "markdown",
   "metadata": {
    "cell_style": "split",
    "slideshow": {
     "slide_type": "slide"
    }
   },
   "source": [
    "<font class=\"question\">\n",
    "    <strong>Question</strong>:<br><em>Does anything about this result seem weird?</em>\n",
    "</font>"
   ]
  },
  {
   "cell_type": "code",
   "execution_count": null,
   "metadata": {
    "cell_style": "split",
    "slideshow": {
     "slide_type": "subslide"
    }
   },
   "outputs": [],
   "source": []
  },
  {
   "cell_type": "markdown",
   "metadata": {
    "slideshow": {
     "slide_type": "slide"
    }
   },
   "source": [
    "# Steps\n",
    "1. Define a covariance function (e.g. RBF, Constant, etc)\n",
    "2. Perform inference given the test inputs $x_*$ and outputs $y_*$\n",
    "3. Optimize the hyperparameters (MAP or full pdf (MCMC))\n",
    "4. Do anything you want with the model\n",
    "    - Sample from the posterior pdf\n",
    "    - Return the posterior mean and covariance"
   ]
  },
  {
   "cell_type": "markdown",
   "metadata": {},
   "source": [
    "# Python tools\n",
    "\n",
    "- GPy\n",
    "- GPFlow (TensorFlow) Variational Inference/MCMC focus\n",
    "- GPyTorch (PyTorch)\n",
    "- Scikit-learn\n",
    "- Pymc3 (Theano, MCMC focus)"
   ]
  },
  {
   "cell_type": "markdown",
   "metadata": {},
   "source": [
    "- [Visual Exploration of GP](https://www.jgoertler.com/visual-exploration-gaussian-processes/)\n",
    "- [GP Book](http://www.gaussianprocess.org/gpml/)"
   ]
  },
  {
   "cell_type": "markdown",
   "metadata": {},
   "source": [
    "- [Eye movements](https://github.com/junpenglao/Bayesian_Smoothing_EyeMovement/blob/master/Fixation_Mapping.ipynb)"
   ]
  },
  {
   "cell_type": "code",
   "execution_count": null,
   "metadata": {},
   "outputs": [],
   "source": []
  }
 ],
 "metadata": {
  "celltoolbar": "Slideshow",
  "kernelspec": {
   "display_name": "Python 3",
   "language": "python",
   "name": "python3"
  },
  "language_info": {
   "codemirror_mode": {
    "name": "ipython",
    "version": 3
   },
   "file_extension": ".py",
   "mimetype": "text/x-python",
   "name": "python",
   "nbconvert_exporter": "python",
   "pygments_lexer": "ipython3",
   "version": "3.7.5"
  },
  "rise": {
   "enable_chalkboard": true,
   "theme": "solarized"
  }
 },
 "nbformat": 4,
 "nbformat_minor": 4
}
