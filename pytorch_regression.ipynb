{
 "cells": [
  {
   "cell_type": "code",
   "execution_count": 1,
   "metadata": {},
   "outputs": [],
   "source": [
    "import math\n",
    "import torch\n",
    "import gpytorch\n",
    "from matplotlib import pyplot as plt\n",
    "\n",
    "%matplotlib inline\n",
    "%load_ext autoreload\n",
    "%autoreload 2"
   ]
  },
  {
   "cell_type": "code",
   "execution_count": 2,
   "metadata": {},
   "outputs": [],
   "source": [
    "# Training data is 100 points in [0,1] inclusive regularly spaced\n",
    "train_x = torch.linspace(0, 1, 100)\n",
    "# True function is sin(2*pi*x) with Gaussian noise\n",
    "train_y = torch.sin(train_x * (2 * math.pi)) + torch.randn(train_x.size()) * math.sqrt(0.04)"
   ]
  },
  {
   "cell_type": "code",
   "execution_count": 3,
   "metadata": {},
   "outputs": [],
   "source": [
    "# We will use the simplest form of GP model, exact inference\n",
    "class ExactGPModel(gpytorch.models.ExactGP):\n",
    "    def __init__(self, train_x, train_y, likelihood):\n",
    "        super(ExactGPModel, self).__init__(train_x, train_y, likelihood)\n",
    "        self.mean_module = gpytorch.means.ConstantMean()\n",
    "        self.covar_module = gpytorch.kernels.ScaleKernel(gpytorch.kernels.RBFKernel())\n",
    "\n",
    "    def forward(self, x):\n",
    "        mean_x = self.mean_module(x)\n",
    "        covar_x = self.covar_module(x)\n",
    "        return gpytorch.distributions.MultivariateNormal(mean_x, covar_x)\n",
    "\n",
    "# initialize likelihood and model\n",
    "likelihood = gpytorch.likelihoods.GaussianLikelihood()\n",
    "model = ExactGPModel(train_x, train_y, likelihood)"
   ]
  },
  {
   "cell_type": "code",
   "execution_count": 4,
   "metadata": {},
   "outputs": [
    {
     "name": "stdout",
     "output_type": "stream",
     "text": [
      "Iter 1/50 - Loss: 0.952   lengthscale: 0.693   noise: 0.693\n",
      "Iter 2/50 - Loss: 0.921   lengthscale: 0.644   noise: 0.644\n",
      "Iter 3/50 - Loss: 0.887   lengthscale: 0.598   noise: 0.598\n",
      "Iter 4/50 - Loss: 0.850   lengthscale: 0.555   noise: 0.554\n",
      "Iter 5/50 - Loss: 0.807   lengthscale: 0.514   noise: 0.513\n",
      "Iter 6/50 - Loss: 0.759   lengthscale: 0.475   noise: 0.474\n",
      "Iter 7/50 - Loss: 0.707   lengthscale: 0.439   noise: 0.437\n",
      "Iter 8/50 - Loss: 0.654   lengthscale: 0.405   noise: 0.402\n",
      "Iter 9/50 - Loss: 0.603   lengthscale: 0.372   noise: 0.369\n",
      "Iter 10/50 - Loss: 0.557   lengthscale: 0.342   noise: 0.339\n",
      "Iter 11/50 - Loss: 0.516   lengthscale: 0.315   noise: 0.310\n",
      "Iter 12/50 - Loss: 0.479   lengthscale: 0.292   noise: 0.284\n",
      "Iter 13/50 - Loss: 0.444   lengthscale: 0.272   noise: 0.259\n",
      "Iter 14/50 - Loss: 0.411   lengthscale: 0.255   noise: 0.236\n",
      "Iter 15/50 - Loss: 0.378   lengthscale: 0.242   noise: 0.215\n",
      "Iter 16/50 - Loss: 0.346   lengthscale: 0.231   noise: 0.196\n",
      "Iter 17/50 - Loss: 0.315   lengthscale: 0.223   noise: 0.178\n",
      "Iter 18/50 - Loss: 0.284   lengthscale: 0.216   noise: 0.162\n",
      "Iter 19/50 - Loss: 0.254   lengthscale: 0.212   noise: 0.148\n",
      "Iter 20/50 - Loss: 0.224   lengthscale: 0.210   noise: 0.134\n",
      "Iter 21/50 - Loss: 0.196   lengthscale: 0.209   noise: 0.122\n",
      "Iter 22/50 - Loss: 0.168   lengthscale: 0.209   noise: 0.111\n",
      "Iter 23/50 - Loss: 0.142   lengthscale: 0.211   noise: 0.101\n",
      "Iter 24/50 - Loss: 0.118   lengthscale: 0.214   noise: 0.092\n",
      "Iter 25/50 - Loss: 0.096   lengthscale: 0.218   noise: 0.084\n",
      "Iter 26/50 - Loss: 0.076   lengthscale: 0.223   noise: 0.077\n",
      "Iter 27/50 - Loss: 0.058   lengthscale: 0.229   noise: 0.070\n",
      "Iter 28/50 - Loss: 0.044   lengthscale: 0.235   noise: 0.064\n",
      "Iter 29/50 - Loss: 0.032   lengthscale: 0.243   noise: 0.059\n",
      "Iter 30/50 - Loss: 0.023   lengthscale: 0.250   noise: 0.055\n",
      "Iter 31/50 - Loss: 0.017   lengthscale: 0.258   noise: 0.051\n",
      "Iter 32/50 - Loss: 0.014   lengthscale: 0.266   noise: 0.047\n",
      "Iter 33/50 - Loss: 0.014   lengthscale: 0.274   noise: 0.044\n",
      "Iter 34/50 - Loss: 0.015   lengthscale: 0.281   noise: 0.042\n",
      "Iter 35/50 - Loss: 0.019   lengthscale: 0.288   noise: 0.040\n",
      "Iter 36/50 - Loss: 0.023   lengthscale: 0.294   noise: 0.038\n",
      "Iter 37/50 - Loss: 0.028   lengthscale: 0.299   noise: 0.037\n",
      "Iter 38/50 - Loss: 0.032   lengthscale: 0.302   noise: 0.036\n",
      "Iter 39/50 - Loss: 0.035   lengthscale: 0.303   noise: 0.035\n",
      "Iter 40/50 - Loss: 0.037   lengthscale: 0.303   noise: 0.035\n",
      "Iter 41/50 - Loss: 0.038   lengthscale: 0.301   noise: 0.034\n",
      "Iter 42/50 - Loss: 0.037   lengthscale: 0.298   noise: 0.035\n",
      "Iter 43/50 - Loss: 0.035   lengthscale: 0.294   noise: 0.035\n",
      "Iter 44/50 - Loss: 0.032   lengthscale: 0.289   noise: 0.035\n",
      "Iter 45/50 - Loss: 0.030   lengthscale: 0.285   noise: 0.036\n",
      "Iter 46/50 - Loss: 0.027   lengthscale: 0.280   noise: 0.037\n",
      "Iter 47/50 - Loss: 0.024   lengthscale: 0.275   noise: 0.038\n",
      "Iter 48/50 - Loss: 0.021   lengthscale: 0.270   noise: 0.039\n",
      "Iter 49/50 - Loss: 0.019   lengthscale: 0.267   noise: 0.040\n",
      "Iter 50/50 - Loss: 0.017   lengthscale: 0.263   noise: 0.041\n"
     ]
    }
   ],
   "source": [
    "# this is for running the notebook in our testing framework\n",
    "import os\n",
    "smoke_test = ('CI' in os.environ)\n",
    "training_iter = 2 if smoke_test else 50\n",
    "\n",
    "\n",
    "# Find optimal model hyperparameters\n",
    "model.train()\n",
    "likelihood.train()\n",
    "\n",
    "# Use the adam optimizer\n",
    "optimizer = torch.optim.Adam([\n",
    "    {'params': model.parameters()},  # Includes GaussianLikelihood parameters\n",
    "], lr=0.1)\n",
    "\n",
    "# \"Loss\" for GPs - the marginal log likelihood\n",
    "mll = gpytorch.mlls.ExactMarginalLogLikelihood(likelihood, model)\n",
    "\n",
    "for i in range(training_iter):\n",
    "    # Zero gradients from previous iteration\n",
    "    optimizer.zero_grad()\n",
    "    # Output from model\n",
    "    output = model(train_x)\n",
    "    # Calc loss and backprop gradients\n",
    "    loss = -mll(output, train_y)\n",
    "    loss.backward()\n",
    "    print('Iter %d/%d - Loss: %.3f   lengthscale: %.3f   noise: %.3f' % (\n",
    "        i + 1, training_iter, loss.item(),\n",
    "        model.covar_module.base_kernel.lengthscale.item(),\n",
    "        model.likelihood.noise.item()\n",
    "    ))\n",
    "    optimizer.step()"
   ]
  },
  {
   "cell_type": "code",
   "execution_count": 5,
   "metadata": {},
   "outputs": [
    {
     "ename": "NameError",
     "evalue": "name 'test_x' is not defined",
     "output_type": "error",
     "traceback": [
      "\u001b[0;31m---------------------------------------------------------------------------\u001b[0m",
      "\u001b[0;31mNameError\u001b[0m                                 Traceback (most recent call last)",
      "\u001b[0;32m<ipython-input-5-e6d9e56b0224>\u001b[0m in \u001b[0;36m<module>\u001b[0;34m\u001b[0m\n\u001b[0;32m----> 1\u001b[0;31m \u001b[0mf_preds\u001b[0m \u001b[0;34m=\u001b[0m \u001b[0mmodel\u001b[0m\u001b[0;34m(\u001b[0m\u001b[0mtest_x\u001b[0m\u001b[0;34m)\u001b[0m\u001b[0;34m\u001b[0m\u001b[0;34m\u001b[0m\u001b[0m\n\u001b[0m\u001b[1;32m      2\u001b[0m \u001b[0my_preds\u001b[0m \u001b[0;34m=\u001b[0m \u001b[0mlikelihood\u001b[0m\u001b[0;34m(\u001b[0m\u001b[0mmodel\u001b[0m\u001b[0;34m(\u001b[0m\u001b[0mtest_x\u001b[0m\u001b[0;34m)\u001b[0m\u001b[0;34m)\u001b[0m\u001b[0;34m\u001b[0m\u001b[0;34m\u001b[0m\u001b[0m\n\u001b[1;32m      3\u001b[0m \u001b[0;34m\u001b[0m\u001b[0m\n\u001b[1;32m      4\u001b[0m \u001b[0mf_mean\u001b[0m \u001b[0;34m=\u001b[0m \u001b[0mf_preds\u001b[0m\u001b[0;34m.\u001b[0m\u001b[0mmean\u001b[0m\u001b[0;34m\u001b[0m\u001b[0;34m\u001b[0m\u001b[0m\n\u001b[1;32m      5\u001b[0m \u001b[0mf_var\u001b[0m \u001b[0;34m=\u001b[0m \u001b[0mf_preds\u001b[0m\u001b[0;34m.\u001b[0m\u001b[0mvariance\u001b[0m\u001b[0;34m\u001b[0m\u001b[0;34m\u001b[0m\u001b[0m\n",
      "\u001b[0;31mNameError\u001b[0m: name 'test_x' is not defined"
     ]
    }
   ],
   "source": [
    "f_preds = model(test_x)\n",
    "y_preds = likelihood(model(test_x))\n",
    "\n",
    "f_mean = f_preds.mean\n",
    "f_var = f_preds.variance\n",
    "f_covar = f_preds.covariance_matrix\n",
    "f_samples = f_preds.sample(sample_shape=torch.Size(1000,))"
   ]
  },
  {
   "cell_type": "code",
   "execution_count": 6,
   "metadata": {},
   "outputs": [],
   "source": [
    "# Get into evaluation (predictive posterior) mode\n",
    "model.eval()\n",
    "likelihood.eval()\n",
    "\n",
    "# Test points are regularly spaced along [0,1]\n",
    "# Make predictions by feeding model through likelihood\n",
    "with torch.no_grad(), gpytorch.settings.fast_pred_var():\n",
    "    test_x = torch.linspace(0, 1, 51)\n",
    "    observed_pred = likelihood(model(test_x))"
   ]
  },
  {
   "cell_type": "code",
   "execution_count": 7,
   "metadata": {},
   "outputs": [
    {
     "data": {
      "image/png": "[encoded data removed]",
      "text/plain": [
       "<Figure size 864x576 with 1 Axes>"
      ]
     },
     "metadata": {
      "needs_background": "light"
     },
     "output_type": "display_data"
    }
   ],
   "source": [
    "with torch.no_grad():\n",
    "    # Initialize plot\n",
    "    f, ax = plt.subplots(1, 1, figsize=(12, 8))\n",
    "\n",
    "    # Get upper and lower confidence bounds\n",
    "    lower, upper = observed_pred.confidence_region()\n",
    "    # Plot training data as black stars\n",
    "    ax.plot(train_x.numpy(), train_y.numpy(), 'k*')\n",
    "    # Plot predictive means as blue line\n",
    "    ax.plot(test_x.numpy(), observed_pred.mean.numpy(), 'b')\n",
    "    # Shade between the lower and upper confidence bounds\n",
    "    ax.fill_between(test_x.numpy(), lower.numpy(), upper.numpy(), alpha=0.5)\n",
    "    ax.set_ylim([-3, 3])\n",
    "    ax.legend(['Observed Data', 'Mean', 'Confidence'])"
   ]
  },
  {
   "cell_type": "code",
   "execution_count": null,
   "metadata": {},
   "outputs": [],
   "source": []
  }
 ],
 "metadata": {
  "kernelspec": {
   "display_name": "Python 3",
   "language": "python",
   "name": "python3"
  },
  "language_info": {
   "codemirror_mode": {
    "name": "ipython",
    "version": 3
   },
   "file_extension": ".py",
   "mimetype": "text/x-python",
   "name": "python",
   "nbconvert_exporter": "python",
   "pygments_lexer": "ipython3",
   "version": "3.7.5"
  }
 },
 "nbformat": 4,
 "nbformat_minor": 4
}
