{
 "cells": [
  {
   "cell_type": "code",
   "execution_count": 1,
   "metadata": {},
   "outputs": [],
   "source": [
    "import numpy as np\n",
    "import matplotlib as plt"
   ]
  },
  {
   "attachments": {},
   "cell_type": "markdown",
   "metadata": {},
   "source": [
    "# Bayes example: Monty Hall\n",
    "\n",
    "![figures/bayes_montyhall.png](figures/bayes_montyhall.png)"
   ]
  },
  {
   "cell_type": "markdown",
   "metadata": {},
   "source": [
    "There are two aspects of the Monty Hall problem that many struggle to agree with. First, why aren’t the odds 50-50 after the host opens the door? Why is it that switching doors has a 2 in 3 chance of winning when sticking with the first pick only has a 1 in 3 chance? Secondly, why is it the case that if Monty opened a door truly randomly and happened to show a goat, then the odds of staying vs. switching doors are now 50-50? Bayes' theorem can answer these questions.\n",
    "\n",
    "Bayes’ theorem is a formula that describes how to update the probability that a hypothesis is correct, given evidence. In this case, it’s the probability that our initially picked door is the one with the car behind it (that staying is right) given that Monty has opened a door showing a goat behind it: that Monty has shown us that one of the choices we didn’t pick was the wrong choice. Let $H$ be the hypothesis \"door 1 has a car behind it,\" and $E$ be the evidence that Monty has revealed a door with a goat behind it. Then the problem can be restated as calculating $P(H \\mid E)$, the conditional probability of H given E.\n",
    "\n",
    "Since every door either has a car or a goat behind it, the hypothesis \"$\\text{not} H$\" is the same as \"door 1 has a goat behind it.\"\n",
    "\n",
    "In this case, Bayes' theorem states that\n",
    "\n",
    "$$P(H \\mid E) = \\frac{P(E \\mid H) \\times P(H)} {P(E)} = \\frac{ P(E\\mid H) \\times P(H)} {P(E\\mid H) \\times P(H) + P(E\\mid \\text{not} H) \\times P(\\text{not} H)}.\n",
    "$$\n",
    "\n",
    "The problem as stated says that Monty Hall deliberately shows you a door that has a goat behind it.\n",
    "\n",
    "Breaking down each of the components of this equation, we have the following:\n",
    "\n",
    "* $P(H)$ is the prior probability that door 1 has a car behind it, without knowing about the door that Monty reveals. This is $\\frac{1}{3}$\n",
    "* $P(\\text{not} H)$ is the probability that we did not pick the door with the car behind it. Since the door either has the car behind it or not, $P(\\text{not} H) = 1 - P(H) = \\frac{2}{3}$\n",
    "* $P(E \\mid H)$ is the probability that Monty shows a door with a goat behind it, given that there is a car behind door 1. Since Monty always shows a door with a goat, this is equal to 1.\n",
    "* $P(E\\mid \\text{not} H)$ is the probability that Monty shows the goat, given that there is a goat behind door 1. Again, since Monty always shows a door with a goat, this is equal to 1.\n",
    "\n",
    "Combining all of this information gives\n",
    "\n",
    "$$P(H \\mid E) = \\frac {1 \\times \\frac13} {1 \\times \\frac13 + 1\\times \\frac23} = \\frac {\\hspace{1mm} \\frac13\\hspace{1mm} }{1} = \\frac{1}{3}$$\n",
    "\n",
    "The probability that the car is behind door 1 is completely unchanged by the evidence. However, since the car can only either be behind door 1 or behind the door Monty didn't reveal, the probability it is behind the door that is not revealed is $\\frac{2}{3}$ Therefore, switching is twice as likely to get you the car as staying.\n",
    "\n",
    "$$P(\\text{not} H \\mid E) = \\frac{ P(E\\mid \\text{not} H) \\times P(\\text{not} H)} {P(E\\mid H) \\times P(H) + P(E\\mid \\text{not} H) \\times P(\\text{not} H)} = \\frac {1 \\times \\frac23} {1 \\times \\frac13 + 1\\times \\frac23} = \\frac {\\hspace{1mm} \\frac23\\hspace{1mm} }{1} = \\frac{2}{3}$$"
   ]
  },
  {
   "cell_type": "code",
   "execution_count": null,
   "metadata": {},
   "outputs": [],
   "source": []
  }
 ],
 "metadata": {
  "kernelspec": {
   "display_name": "Python 3",
   "language": "python",
   "name": "python3"
  },
  "language_info": {
   "codemirror_mode": {
    "name": "ipython",
    "version": 3
   },
   "file_extension": ".py",
   "mimetype": "text/x-python",
   "name": "python",
   "nbconvert_exporter": "python",
   "pygments_lexer": "ipython3",
   "version": "3.7.5"
  }
 },
 "nbformat": 4,
 "nbformat_minor": 4
}
